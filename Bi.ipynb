{
 "cells": [
  {
   "cell_type": "markdown",
   "id": "690f97f1",
   "metadata": {},
   "source": [
    "# 测试时间"
   ]
  },
  {
   "cell_type": "code",
   "execution_count": 7,
   "id": "8214bae7",
   "metadata": {
    "scrolled": true
   },
   "outputs": [
    {
     "name": "stdout",
     "output_type": "stream",
     "text": [
      "2023-03-17 00:00:00\n"
     ]
    }
   ],
   "source": [
    "from datetime import datetime, timedelta\n",
    "\n",
    "# 获取当前时间\n",
    "now = datetime.now()\n",
    "\n",
    "# 计算昨天的时间\n",
    "yesterday = now - timedelta(days=1)\n",
    "\n",
    "# 将时间设置为零点\n",
    "yesterday_midnight = yesterday.replace(hour=0, minute=0, second=0, microsecond=0)\n",
    "\n",
    "# 打印结果\n",
    "print(yesterday_midnight)"
   ]
  },
  {
   "cell_type": "code",
   "execution_count": 12,
   "id": "4b7cb34f",
   "metadata": {
    "scrolled": true
   },
   "outputs": [
    {
     "name": "stdout",
     "output_type": "stream",
     "text": [
      "1 day, 0:00:00\n"
     ]
    }
   ],
   "source": [
    "print(datetime.timedelta(days=1))"
   ]
  },
  {
   "cell_type": "markdown",
   "id": "33b7eb43",
   "metadata": {},
   "source": [
    "# 测试链接币安API是否成功"
   ]
  },
  {
   "cell_type": "code",
   "execution_count": 36,
   "id": "ec85107f",
   "metadata": {},
   "outputs": [
    {
     "name": "stdout",
     "output_type": "stream",
     "text": [
      "Connection failed.\n"
     ]
    }
   ],
   "source": [
    "import requests\n",
    "\n",
    "url = \"https://api.binance.com/api/v3/klines\"\n",
    "response = requests.get(url)\n",
    "\n",
    "if response.status_code == 200:\n",
    "    print(\"Connection is OK!\")\n",
    "else:\n",
    "    print(\"Connection failed.\")"
   ]
  },
  {
   "cell_type": "markdown",
   "id": "caa29341",
   "metadata": {},
   "source": [
    "# 使用Black规划范代码"
   ]
  },
  {
   "cell_type": "code",
   "execution_count": 10,
   "id": "073f2369",
   "metadata": {},
   "outputs": [
    {
     "name": "stdout",
     "output_type": "stream",
     "text": [
      "\u001b[1mreformatted /Users/smithzhang/Jupyter/Bi.ipynb\u001b[0m\r\n",
      "\r\n",
      "\u001b[1mAll done! ✨ 🍰 ✨\u001b[0m\r\n",
      "\u001b[34m\u001b[1m1 file \u001b[0m\u001b[1mreformatted\u001b[0m.\r\n"
     ]
    }
   ],
   "source": [
    "!black /Users/smithzhang/Jupyter/Bi.ipynb"
   ]
  },
  {
   "cell_type": "markdown",
   "id": "5fe45d1d",
   "metadata": {},
   "source": [
    "# 写入CSV"
   ]
  },
  {
   "cell_type": "code",
   "execution_count": 36,
   "id": "fa66ae2f",
   "metadata": {},
   "outputs": [],
   "source": [
    "import os\n",
    "import csv\n",
    "\n",
    "path1 = \"/Users/smithzhang/Jupyter/test.csv\"\n",
    "\n",
    "\n",
    "def write_to_csv(data):\n",
    "    file_path = \"/Users/smithzhang/Jupyter/test.csv\"\n",
    "\n",
    "    if os.path.isfile(file_path):\n",
    "        # 文件已存在，追加数据\n",
    "        data.to_csv(file_path, mode=\"a\", header=False, index=False)\n",
    "    else:\n",
    "        # 文件不存在，写入表头和数据\n",
    "        data.to_csv(file_path, mode=\"w\", header=True, index=False)"
   ]
  },
  {
   "cell_type": "markdown",
   "id": "06e6e66e",
   "metadata": {},
   "source": [
    "# 将获取8小时价格的代码function化"
   ]
  },
  {
   "cell_type": "code",
   "execution_count": 38,
   "id": "079eae90",
   "metadata": {},
   "outputs": [],
   "source": [
    "def get_price(symbol, interval, period, end):\n",
    "    startTime = int((period).timestamp() * 1000)  # 获取最近一天的数据\n",
    "    endTime = int(end.timestamp() * 1000)\n",
    "    params = {\n",
    "        \"symbol\": symbol,\n",
    "        \"interval\": interval,\n",
    "        \"startTime\": startTime,\n",
    "        \"endTime\": endTime,\n",
    "    }\n",
    "\n",
    "    # 发送API请求并获取响应\n",
    "    response = requests.get(url, params=params)\n",
    "\n",
    "    # 解析响应中的K线数据\n",
    "\n",
    "    data = json.loads(response.text)\n",
    "    klines = []\n",
    "    for d in data:\n",
    "        timestamp = d[0] / 1000\n",
    "        open_price = float(d[1])\n",
    "        high_price = float(d[2])\n",
    "        low_price = float(d[3])\n",
    "        close_price = float(d[4])\n",
    "        klines.append(\n",
    "            (\n",
    "                datetime.datetime.fromtimestamp(timestamp).strftime(\"%Y-%m-%d\"),\n",
    "                datetime.datetime.fromtimestamp(timestamp).strftime(\"%H:%M:%S\"),\n",
    "                open_price,\n",
    "                high_price,\n",
    "                low_price,\n",
    "                close_price,\n",
    "            )\n",
    "        )\n",
    "\n",
    "    crypto = pd.DataFrame(\n",
    "        klines,\n",
    "        columns=[\n",
    "            \"date\",\n",
    "            \"time\",\n",
    "            \"open_price\",\n",
    "            \"high_price\",\n",
    "            \"low_price\",\n",
    "            \"close_price\",\n",
    "        ],\n",
    "    )\n",
    "    write_to_csv(crypto)\n",
    "    # crypto.to_csv('test.csv')"
   ]
  },
  {
   "cell_type": "code",
   "execution_count": 39,
   "id": "795393bb",
   "metadata": {
    "scrolled": true
   },
   "outputs": [],
   "source": [
    "import requests\n",
    "import json\n",
    "import datetime\n",
    "import pandas as pd\n",
    "\n",
    "# 设置Binance API的请求URL和参数\n",
    "url = \"https://api.binance.com/api/v3/klines\"\n",
    "symbol = \"BTCUSDT\"\n",
    "interval = \"1m\"\n",
    "\n",
    "# 获取昨日零点的时间戳\n",
    "yesterday = (datetime.datetime.now() - datetime.timedelta(days=1)).replace(\n",
    "    hour=0, minute=0, second=0, microsecond=0\n",
    ")\n",
    "# 0:00 - 8:00\n",
    "period1 = yesterday.replace(hour=0, minute=0, second=0, microsecond=0)\n",
    "end1 = period1.replace(hour=8, minute=0, second=0, microsecond=0)\n",
    "# 8:00 - 16:00\n",
    "period2 = yesterday.replace(hour=8, minute=0, second=1, microsecond=1)\n",
    "end2 = period2.replace(hour=16, minute=0, second=0, microsecond=0)\n",
    "# 16:00 - 23:59\n",
    "period3 = yesterday.replace(hour=16, minute=0, second=1, microsecond=1)\n",
    "end3 = period3.replace(hour=23, minute=59, second=1, microsecond=0)\n",
    "\n",
    "# 获取价格\n",
    "get_price(symbol, interval, period1, end1)\n",
    "get_price(symbol, interval, period2, end2)\n",
    "get_price(symbol, interval, period3, end3)"
   ]
  },
  {
   "cell_type": "code",
   "execution_count": 15,
   "id": "43568d54",
   "metadata": {
    "scrolled": true
   },
   "outputs": [
    {
     "name": "stdout",
     "output_type": "stream",
     "text": [
      "/Users/smithzhang/Jupyter\n"
     ]
    }
   ],
   "source": [
    "import os\n",
    "\n",
    "print(os.path.abspath(\".\"))"
   ]
  }
 ],
 "metadata": {
  "kernelspec": {
   "display_name": "Python 3 (ipykernel)",
   "language": "python",
   "name": "python3"
  },
  "language_info": {
   "codemirror_mode": {
    "name": "ipython",
    "version": 3
   },
   "file_extension": ".py",
   "mimetype": "text/x-python",
   "name": "python",
   "nbconvert_exporter": "python",
   "pygments_lexer": "ipython3",
   "version": "3.9.13"
  }
 },
 "nbformat": 4,
 "nbformat_minor": 5
}
